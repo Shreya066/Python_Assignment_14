{
 "cells": [
  {
   "cell_type": "markdown",
   "id": "c92a02ce",
   "metadata": {},
   "source": [
    "**1. What does RGBA stand for?**"
   ]
  },
  {
   "cell_type": "markdown",
   "id": "6f01ef9d",
   "metadata": {},
   "source": [
    "RGBA is a four-channel format containing data for Red, Green, Blue, and an Alpha value. Where Alpha Represents the Opacity"
   ]
  },
  {
   "cell_type": "markdown",
   "id": "92f46111",
   "metadata": {},
   "source": [
    "**2. From the Pillow module, how do you get the RGBA value of any images?**\n"
   ]
  },
  {
   "cell_type": "markdown",
   "id": "7ae99d86",
   "metadata": {},
   "source": [
    "ImageColor.getcolor() gives rgba value of any image"
   ]
  },
  {
   "cell_type": "markdown",
   "id": "9969cc78",
   "metadata": {},
   "source": [
    "**3. What is a box tuple, and how does it work?**"
   ]
  },
  {
   "cell_type": "markdown",
   "id": "d864d754",
   "metadata": {},
   "source": [
    "A box tuple is a tuple value of four integers: the left-edge x-coordinate, the top-edge y-coordinate,the width, and the height, respectively."
   ]
  },
  {
   "cell_type": "markdown",
   "id": "bcfc78c4",
   "metadata": {},
   "source": [
    "**4. \n",
    "Use your image and load in notebook then, How can you find out the width and height of an Image object?**"
   ]
  },
  {
   "cell_type": "code",
   "execution_count": 4,
   "id": "212fcbd4",
   "metadata": {},
   "outputs": [
    {
     "name": "stdout",
     "output_type": "stream",
     "text": [
      "Width, Height -> 3464,3464\n"
     ]
    }
   ],
   "source": [
    "#Example Program\n",
    "from PIL import Image\n",
    "pic = Image.open('D:\\ineuron\\destination\\pic.jpg')\n",
    "width,height = pic.size\n",
    "print(f'Width, Height -> {width},{height}')"
   ]
  },
  {
   "cell_type": "markdown",
   "id": "bc40fa10",
   "metadata": {},
   "source": [
    "**5. What method would you call to get Image object for a 100×100 image, excluding the lower-left quarter of it?**"
   ]
  },
  {
   "cell_type": "code",
   "execution_count": 24,
   "id": "5f3750f6",
   "metadata": {},
   "outputs": [
    {
     "name": "stdout",
     "output_type": "stream",
     "text": [
      "Width, Height -> 50,100\n"
     ]
    }
   ],
   "source": [
    "from PIL import Image\n",
    "pic = Image.open('D:\\ineuron\\destination\\hundred.jpg')\n",
    "new_img = pic.crop((50,100,100,200))\n",
    "width,height = new_img.size\n",
    "print(f'Width, Height -> {width},{height}')\n",
    "new_img.show()"
   ]
  },
  {
   "cell_type": "markdown",
   "id": "3f77b279",
   "metadata": {},
   "source": [
    "**6. After making changes to an Image object, how could you save it as an image file?**"
   ]
  },
  {
   "cell_type": "code",
   "execution_count": 25,
   "id": "ca1c61ab",
   "metadata": {},
   "outputs": [],
   "source": [
    "new_img.save('new.jpg')"
   ]
  },
  {
   "cell_type": "markdown",
   "id": "8175cc5b",
   "metadata": {},
   "source": [
    "**7. What module contains Pillow’s shape-drawing code?**"
   ]
  },
  {
   "cell_type": "markdown",
   "id": "82458237",
   "metadata": {},
   "source": [
    "Pillows **ImageDraw** module contains Shape drawing methods"
   ]
  },
  {
   "cell_type": "markdown",
   "id": "d8ed48de",
   "metadata": {},
   "source": [
    "**8. Image objects do not have drawing methods. What kind of object does? How do you get this kind of object?**"
   ]
  },
  {
   "cell_type": "markdown",
   "id": "225fdb80",
   "metadata": {},
   "source": [
    "ImageDraw objects have shape-drawing methods such as point(), line(), or rectangle().They are returned by passing the Image object to the ImageDraw.Draw() function."
   ]
  }
 ],
 "metadata": {
  "kernelspec": {
   "display_name": "Python 3 (ipykernel)",
   "language": "python",
   "name": "python3"
  },
  "language_info": {
   "codemirror_mode": {
    "name": "ipython",
    "version": 3
   },
   "file_extension": ".py",
   "mimetype": "text/x-python",
   "name": "python",
   "nbconvert_exporter": "python",
   "pygments_lexer": "ipython3",
   "version": "3.9.7"
  }
 },
 "nbformat": 4,
 "nbformat_minor": 5
}
